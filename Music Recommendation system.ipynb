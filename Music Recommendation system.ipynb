{
 "cells": [
  {
   "cell_type": "code",
   "execution_count": 1,
   "id": "1eca055d",
   "metadata": {},
   "outputs": [
    {
     "name": "stdout",
     "output_type": "stream",
     "text": [
      "Error obtaining access token.\n"
     ]
    }
   ],
   "source": [
    "import requests\n",
    "import base64\n",
    "\n",
    "# Replace with your own Client ID and Client Secret\n",
    "CLIENT_ID = 'your_client_id'\n",
    "CLIENT_SECRET = 'your_client_secret'\n",
    "\n",
    "# Base64 encode the client ID and client secret\n",
    "client_credentials = f\"{CLIENT_ID}:{CLIENT_SECRET}\"\n",
    "client_credentials_base64 = base64.b64encode(client_credentials.encode())\n",
    "\n",
    "# Request the access token\n",
    "token_url = 'https://accounts.spotify.com/api/token'\n",
    "headers = {\n",
    "    'Authorization': f'Basic {client_credentials_base64.decode()}'\n",
    "}\n",
    "data = {\n",
    "    'grant_type': 'client_credentials'\n",
    "}\n",
    "response = requests.post(token_url, data=data, headers=headers)\n",
    "\n",
    "if response.status_code == 200:\n",
    "    access_token = response.json()['access_token']\n",
    "    print(\"Access token obtained successfully.\")\n",
    "else:\n",
    "    print(\"Error obtaining access token.\")\n",
    "    exit()"
   ]
  },
  {
   "cell_type": "code",
   "execution_count": 1,
   "id": "f957db20",
   "metadata": {},
   "outputs": [
    {
     "name": "stdout",
     "output_type": "stream",
     "text": [
      "Requirement already satisfied: spotipy in c:\\users\\user\\anaconda3\\lib\\site-packages (2.24.0)\n",
      "Requirement already satisfied: redis>=3.5.3 in c:\\users\\user\\anaconda3\\lib\\site-packages (from spotipy) (5.0.8)\n",
      "Requirement already satisfied: requests>=2.25.0 in c:\\users\\user\\anaconda3\\lib\\site-packages (from spotipy) (2.31.0)\n",
      "Requirement already satisfied: urllib3>=1.26.0 in c:\\users\\user\\anaconda3\\lib\\site-packages (from spotipy) (1.26.16)\n",
      "Requirement already satisfied: charset-normalizer<4,>=2 in c:\\users\\user\\anaconda3\\lib\\site-packages (from requests>=2.25.0->spotipy) (2.0.4)\n",
      "Requirement already satisfied: idna<4,>=2.5 in c:\\users\\user\\anaconda3\\lib\\site-packages (from requests>=2.25.0->spotipy) (3.4)\n",
      "Requirement already satisfied: certifi>=2017.4.17 in c:\\users\\user\\anaconda3\\lib\\site-packages (from requests>=2.25.0->spotipy) (2023.7.22)\n",
      "Note: you may need to restart the kernel to use updated packages.\n"
     ]
    }
   ],
   "source": [
    "pip install spotipy"
   ]
  },
  {
   "cell_type": "code",
   "execution_count": 2,
   "id": "604333f1",
   "metadata": {},
   "outputs": [],
   "source": [
    "import pandas as pd\n",
    "import spotipy\n",
    "from spotipy.oauth2 import SpotifyOAuth\n",
    "\n",
    "# Step 1: Define the function to get playlist data\n",
    "def get_trending_playlist_data(playlist_id, sp):\n",
    "    # Get the tracks from the playlist\n",
    "    playlist_tracks = sp.playlist_tracks(playlist_id, fields='items(track(id, name, artists, album(id, name)))')\n",
    "\n",
    "    # Extract relevant information and store in a list of dictionaries\n",
    "    music_data = []\n",
    "    for track_info in playlist_tracks['items']:\n",
    "        track = track_info['track']\n",
    "        track_name = track['name']\n",
    "        artists = ', '.join([artist['name'] for artist in track['artists']])\n",
    "        album_name = track['album']['name']\n",
    "        album_id = track['album']['id']\n",
    "        track_id = track['id']\n",
    "\n",
    "        # Get audio features for the track\n",
    "        audio_features = sp.audio_features(track_id)[0] if track_id != 'Not available' else None\n",
    "\n",
    "        # Get release date of the album\n",
    "        try:\n",
    "            album_info = sp.album(album_id) if album_id != 'Not available' else None\n",
    "            release_date = album_info['release_date'] if album_info else None\n",
    "        except:\n",
    "            release_date = None\n",
    "\n",
    "        # Get popularity of the track\n",
    "        try:\n",
    "            track_info = sp.track(track_id) if track_id != 'Not available' else None\n",
    "            popularity = track_info['popularity'] if track_info else None\n",
    "        except:\n",
    "            popularity = None\n",
    "\n",
    "        # Add additional track information to the track data\n",
    "        track_data = {\n",
    "            'Track Name': track_name,\n",
    "            'Artists': artists,\n",
    "            'Album Name': album_name,\n",
    "            'Album ID': album_id,\n",
    "            'Track ID': track_id,\n",
    "            'Popularity': popularity,\n",
    "            'Release Date': release_date,\n",
    "            'Duration (ms)': audio_features['duration_ms'] if audio_features else None,\n",
    "            'Danceability': audio_features['danceability'] if audio_features else None,\n",
    "            'Energy': audio_features['energy'] if audio_features else None,\n",
    "            'Loudness': audio_features['loudness'] if audio_features else None,\n",
    "            'Tempo': audio_features['tempo'] if audio_features else None,\n",
    "        }\n",
    "\n",
    "        music_data.append(track_data)\n",
    "\n",
    "    # Create a pandas DataFrame from the list of dictionaries\n",
    "    df = pd.DataFrame(music_data)\n",
    "    return df"
   ]
  },
  {
   "cell_type": "code",
   "execution_count": 3,
   "id": "eee05097",
   "metadata": {},
   "outputs": [],
   "source": [
    "# Step 2: Authenticate with Spotify using your credentials\n",
    "sp = spotipy.Spotify(auth_manager=SpotifyOAuth(client_id='bb7515607a0e443195d8a421bdf0858c',\n",
    "                                               client_secret='ba224126f6014b539ecbf1bc9142571e',\n",
    "                                               redirect_uri='http://localhost:9090',\n",
    "                                               scope='playlist-read-private'))"
   ]
  },
  {
   "cell_type": "code",
   "execution_count": 4,
   "id": "bb2a7bec",
   "metadata": {},
   "outputs": [],
   "source": [
    "# Step 3: Provide the playlist ID and call the function\n",
    "playlist_id = '2cT3gVyXeD4b8inJOzqUr3'\n",
    "music_df = get_trending_playlist_data(playlist_id, sp)"
   ]
  },
  {
   "cell_type": "code",
   "execution_count": 5,
   "id": "b9812dab",
   "metadata": {},
   "outputs": [
    {
     "name": "stdout",
     "output_type": "stream",
     "text": [
      "                                        Track Name  \\\n",
      "0                        STAY (with Justin Bieber)   \n",
      "1                                            Ghost   \n",
      "2                                             Baby   \n",
      "3                                          bad guy   \n",
      "4                I Don't Care (with Justin Bieber)   \n",
      "5                                What Do You Mean?   \n",
      "6           Peaches (feat. Daniel Caesar & Giveon)   \n",
      "7                                            Sorry   \n",
      "8                                Beauty And A Beat   \n",
      "9                                    Love Yourself   \n",
      "10                                           Ghost   \n",
      "11                       STAY (with Justin Bieber)   \n",
      "12                               THATS WHAT I WANT   \n",
      "13  Beautiful Mistakes (feat. Megan Thee Stallion)   \n",
      "14                                     My Universe   \n",
      "15                          Mood (feat. iann dior)   \n",
      "16                                     WITHOUT YOU   \n",
      "\n",
      "                                 Artists                   Album Name  \\\n",
      "0           The Kid LAROI, Justin Bieber       F*CK LOVE 3+: OVER YOU   \n",
      "1                          Justin Bieber                      Justice   \n",
      "2                Justin Bieber, Ludacris                 My World 2.0   \n",
      "3           Billie Eilish, Justin Bieber          Playlist for Gamers   \n",
      "4              Ed Sheeran, Justin Bieber  No.6 Collaborations Project   \n",
      "5                          Justin Bieber             Purpose (Deluxe)   \n",
      "6   Justin Bieber, Daniel Caesar, Giveon                      Justice   \n",
      "7                          Justin Bieber             Purpose (Deluxe)   \n",
      "8             Justin Bieber, Nicki Minaj                      Believe   \n",
      "9                          Justin Bieber             Purpose (Deluxe)   \n",
      "10                         Justin Bieber                      Justice   \n",
      "11          The Kid LAROI, Justin Bieber       F*CK LOVE 3+: OVER YOU   \n",
      "12                             Lil Nas X                      MONTERO   \n",
      "13         Maroon 5, Megan Thee Stallion               JORDI (Deluxe)   \n",
      "14                         Coldplay, BTS         Music Of The Spheres   \n",
      "15                   24kGoldn, iann dior                    El Dorado   \n",
      "16                         The Kid LAROI       F*CK LOVE 3+: OVER YOU   \n",
      "\n",
      "                  Album ID                Track ID  Popularity Release Date  \\\n",
      "0   576UTio7xgY7YUxrHMzxeI  567e29TDzLwZwfDuEpGTwo          84   2021-07-27   \n",
      "1   5dGWwsZ9iB2Xc3UKR0gif2  6I3mqTwhRpn34SLVafSH7G          84   2021-03-19   \n",
      "2   3BmcYMh0KYsimWL6p2gPa9  6epn3r7S14KUqlReYr77hA          81   2010-01-01   \n",
      "3   7zdGgPQSqb6FOBneFI23y0  69u7FJV6RIbQS3VuqLPSwl          57   2021-08-18   \n",
      "4   3oIFxDIo2fwuk4lwCmFZCx  0hVXuCcriWRGvwMV1r5Yn9          76   2019-07-12   \n",
      "5   3jJ5HhbOC2KB5fOZ2RgJTo  0NpZenGEA81m99MX1Q677C          61   2015-11-13   \n",
      "6   5dGWwsZ9iB2Xc3UKR0gif2  4iJyoBOLtHqaGxP12qzhQI          79   2021-03-19   \n",
      "7   3jJ5HhbOC2KB5fOZ2RgJTo  0JBq4P9Jpp37F1PteCgGL1          67   2015-11-13   \n",
      "8   5cxMa6oLINJzmZ8lF7wWQN  6QFCMUUq1T2Vf5sFUXcuQ7          80   2012-01-01   \n",
      "9   3jJ5HhbOC2KB5fOZ2RgJTo  1f8zcJPvJKvxAOjEqM0pyc          69   2015-11-13   \n",
      "10  5dGWwsZ9iB2Xc3UKR0gif2  6I3mqTwhRpn34SLVafSH7G          84   2021-03-19   \n",
      "11  576UTio7xgY7YUxrHMzxeI  567e29TDzLwZwfDuEpGTwo          84   2021-07-27   \n",
      "12  6pOiDiuDQqrmo5DbG0ZubR  0e8nrvls4Qqv5Rfa2UhqmO          77   2021-09-17   \n",
      "13  1pCA38N6MkLlthXtAOvZTU  5zFglKYiknIxks8geR8rcL          76   2021-06-11   \n",
      "14  06mXfvDsRZNfnsGZvX2zpb  46HNZY1i7O6jwTA7Slo2PI          77   2021-10-15   \n",
      "15  270o30h7cAlEhBnbuSpFZq  4jPy3l0RUwlUI9T5XHBW2m          81   2021-03-26   \n",
      "16  576UTio7xgY7YUxrHMzxeI  1KMkcUvF7m3SDChDOa7i5L          75   2021-07-27   \n",
      "\n",
      "    Duration (ms)  Danceability  Energy  Loudness    Tempo  \n",
      "0          141806         0.591   0.764    -5.484  169.928  \n",
      "1          153190         0.601   0.741    -5.569  153.960  \n",
      "2          214240         0.728   0.859    -5.237   65.043  \n",
      "3          194840         0.670   0.453   -11.265  135.047  \n",
      "4          219947         0.798   0.676    -5.041  101.956  \n",
      "5          205680         0.845   0.567    -8.118  125.020  \n",
      "6          198082         0.677   0.696    -6.181   90.030  \n",
      "7          200787         0.655   0.760    -3.669   99.947  \n",
      "8          227987         0.601   0.843    -4.870  128.002  \n",
      "9          233720         0.609   0.378    -9.828  100.430  \n",
      "10         153190         0.601   0.741    -5.569  153.960  \n",
      "11         141806         0.591   0.764    -5.484  169.928  \n",
      "12         143901         0.737   0.846    -4.510   87.981  \n",
      "13         227395         0.713   0.676    -5.483   99.048  \n",
      "14         226198         0.573   0.711    -6.268  105.006  \n",
      "15         140533         0.701   0.716    -3.671   91.007  \n",
      "16         161385         0.662   0.413    -7.357   93.005  \n"
     ]
    }
   ],
   "source": [
    "print(music_df)"
   ]
  },
  {
   "cell_type": "code",
   "execution_count": 6,
   "id": "8553ee1f",
   "metadata": {},
   "outputs": [
    {
     "name": "stdout",
     "output_type": "stream",
     "text": [
      "Track Name       0\n",
      "Artists          0\n",
      "Album Name       0\n",
      "Album ID         0\n",
      "Track ID         0\n",
      "Popularity       0\n",
      "Release Date     0\n",
      "Duration (ms)    0\n",
      "Danceability     0\n",
      "Energy           0\n",
      "Loudness         0\n",
      "Tempo            0\n",
      "dtype: int64\n"
     ]
    }
   ],
   "source": [
    "print(music_df.isnull().sum())"
   ]
  },
  {
   "cell_type": "code",
   "execution_count": 7,
   "id": "58aba205",
   "metadata": {},
   "outputs": [],
   "source": [
    "import pandas as pd\n",
    "import numpy as np\n",
    "from sklearn.model_selection import train_test_split\n",
    "from sklearn.preprocessing import MinMaxScaler\n",
    "from datetime import datetime\n",
    "from sklearn.metrics.pairwise import cosine_similarity\n",
    "\n",
    "data = music_df"
   ]
  },
  {
   "cell_type": "code",
   "execution_count": 8,
   "id": "4b39d511",
   "metadata": {},
   "outputs": [],
   "source": [
    "# Function to calculate weighted popularity scores based on release date\n",
    "def calculate_weighted_popularity(release_date):\n",
    "    # Convert the release date to datetime object\n",
    "    release_date = datetime.strptime(release_date, '%Y-%m-%d')\n",
    "\n",
    "    # Calculate the time span between release date and today's date\n",
    "    time_span = datetime.now() - release_date\n",
    "\n",
    "    # Calculate the weighted popularity score based on time span (e.g., more recent releases have higher weight)\n",
    "    weight = 1 / (time_span.days + 1)\n",
    "    return weight       "
   ]
  },
  {
   "cell_type": "code",
   "execution_count": 10,
   "id": "f7d79025",
   "metadata": {},
   "outputs": [
    {
     "name": "stdout",
     "output_type": "stream",
     "text": [
      "Index(['Track Name', 'Artists', 'Album Name', 'Album ID', 'Track ID',\n",
      "       'Popularity', 'Release Date', 'Duration (ms)', 'Danceability', 'Energy',\n",
      "       'Loudness', 'Tempo'],\n",
      "      dtype='object')\n"
     ]
    }
   ],
   "source": [
    "print(music_df.columns)"
   ]
  },
  {
   "cell_type": "code",
   "execution_count": 11,
   "id": "58aaedee",
   "metadata": {},
   "outputs": [
    {
     "name": "stdout",
     "output_type": "stream",
     "text": [
      "    Danceability    Energy  Loudness     Tempo\n",
      "0       0.066176  0.802495  0.761058  1.000000\n",
      "1       0.102941  0.754678  0.749868  0.847757\n",
      "2       0.569853  1.000000  0.793576  0.000000\n",
      "3       0.356618  0.155925  0.000000  0.667436\n",
      "4       0.827206  0.619543  0.819379  0.351938\n",
      "5       1.000000  0.392931  0.414297  0.571836\n",
      "6       0.382353  0.661123  0.669300  0.238232\n",
      "7       0.301471  0.794179  1.000000  0.332784\n",
      "8       0.102941  0.966736  0.841890  0.600267\n",
      "9       0.132353  0.000000  0.189179  0.337389\n",
      "10      0.102941  0.754678  0.749868  0.847757\n",
      "11      0.066176  0.802495  0.761058  1.000000\n",
      "12      0.602941  0.972973  0.889284  0.218697\n",
      "13      0.514706  0.619543  0.761190  0.324212\n",
      "14      0.000000  0.692308  0.657846  0.381017\n",
      "15      0.470588  0.702703  0.999737  0.247547\n",
      "16      0.327206  0.072765  0.514481  0.266597\n"
     ]
    }
   ],
   "source": [
    "from sklearn.preprocessing import MinMaxScaler\n",
    "\n",
    "# Normalize the music features using Min-Max scaling\n",
    "scaler = MinMaxScaler()\n",
    "music_features = music_df[['Danceability', 'Energy', 'Loudness', 'Tempo']].values\n",
    "music_features_scaled = scaler.fit_transform(music_features)\n",
    "\n",
    "# Optionnel : Ajoutez les données normalisées à un nouveau DataFrame si besoin\n",
    "scaled_features_df = pd.DataFrame(music_features_scaled, columns=['Danceability', 'Energy', 'Loudness', 'Tempo'])\n",
    "print(scaled_features_df)"
   ]
  },
  {
   "cell_type": "code",
   "execution_count": 12,
   "id": "e9a37255",
   "metadata": {},
   "outputs": [],
   "source": [
    "# a function to get content-based recommendations based on music features\n",
    "def content_based_recommendations(input_song_name, num_recommendations=5):\n",
    "    if input_song_name not in music_df['Track Name'].values:\n",
    "        print(f\"'{input_song_name}' not found in the dataset. Please enter a valid song name.\")\n",
    "        return\n",
    "\n",
    "    # Get the index of the input song in the music DataFrame\n",
    "    input_song_index = music_df[music_df['Track Name'] == input_song_name].index[0]\n",
    "\n",
    "    # Calculate the similarity scores based on music features (cosine similarity)\n",
    "    similarity_scores = cosine_similarity([music_features_scaled[input_song_index]], music_features_scaled)\n",
    "\n",
    "    # Get the indices of the most similar songs\n",
    "    similar_song_indices = similarity_scores.argsort()[0][::-1][1:num_recommendations + 1]\n",
    "\n",
    "    # Get the names of the most similar songs based on content-based filtering\n",
    "    content_based_recommendations = music_df.iloc[similar_song_indices][['Track Name', 'Artists', 'Album Name', 'Release Date', 'Popularity']]\n",
    "\n",
    "    return content_based_recommendations"
   ]
  },
  {
   "cell_type": "code",
   "execution_count": 13,
   "id": "fabb4043",
   "metadata": {},
   "outputs": [],
   "source": [
    "import pandas as pd\n",
    "\n",
    "def hybrid_recommendations(input_song_name, num_recommendations=5, alpha=0.5):\n",
    "    if input_song_name not in music_df['Track Name'].values:\n",
    "        print(f\"'{input_song_name}' not found in the dataset. Please enter a valid song name.\")\n",
    "        return\n",
    "\n",
    "    content_based_rec = content_based_recommendations(input_song_name, num_recommendations)\n",
    "\n",
    "    popularity_score = music_df.loc[music_df['Track Name'] == input_song_name, 'Popularity'].values[0]\n",
    "\n",
    "    weighted_popularity_score = popularity_score * calculate_weighted_popularity(\n",
    "        music_df.loc[music_df['Track Name'] == input_song_name, 'Release Date'].values[0]\n",
    "    )\n",
    "\n",
    "    new_entry = pd.DataFrame({\n",
    "        'Track Name': [input_song_name],\n",
    "        'Artists': [music_df.loc[music_df['Track Name'] == input_song_name, 'Artists'].values[0]],\n",
    "        'Album Name': [music_df.loc[music_df['Track Name'] == input_song_name, 'Album Name'].values[0]],\n",
    "        'Release Date': [music_df.loc[music_df['Track Name'] == input_song_name, 'Release Date'].values[0]],\n",
    "        'Popularity': [weighted_popularity_score]\n",
    "    })\n",
    "\n",
    "    hybrid_recommendations = pd.concat([content_based_rec, new_entry], ignore_index=True)\n",
    "\n",
    "    hybrid_recommendations = hybrid_recommendations.sort_values(by='Popularity', ascending=False)\n",
    "\n",
    "    hybrid_recommendations = hybrid_recommendations[hybrid_recommendations['Track Name'] != input_song_name]\n",
    "\n",
    "    return hybrid_recommendations"
   ]
  },
  {
   "cell_type": "code",
   "execution_count": 14,
   "id": "28e55fa3",
   "metadata": {},
   "outputs": [
    {
     "name": "stdout",
     "output_type": "stream",
     "text": [
      "Hybrid recommended songs for 'Ghost':\n",
      "                  Track Name                       Artists  \\\n",
      "1  STAY (with Justin Bieber)  The Kid LAROI, Justin Bieber   \n",
      "2  STAY (with Justin Bieber)  The Kid LAROI, Justin Bieber   \n",
      "3          Beauty And A Beat    Justin Bieber, Nicki Minaj   \n",
      "4                My Universe                 Coldplay, BTS   \n",
      "\n",
      "               Album Name Release Date  Popularity  \n",
      "1  F*CK LOVE 3+: OVER YOU   2021-07-27        84.0  \n",
      "2  F*CK LOVE 3+: OVER YOU   2021-07-27        84.0  \n",
      "3                 Believe   2012-01-01        80.0  \n",
      "4    Music Of The Spheres   2021-10-15        77.0  \n"
     ]
    }
   ],
   "source": [
    "input_song_name = \"Ghost\"\n",
    "recommendations = hybrid_recommendations(input_song_name, num_recommendations=5)\n",
    "print(f\"Hybrid recommended songs for '{input_song_name}':\")\n",
    "print(recommendations)"
   ]
  },
  {
   "cell_type": "code",
   "execution_count": null,
   "id": "b0df32ac",
   "metadata": {},
   "outputs": [],
   "source": []
  }
 ],
 "metadata": {
  "kernelspec": {
   "display_name": "Python 3 (ipykernel)",
   "language": "python",
   "name": "python3"
  },
  "language_info": {
   "codemirror_mode": {
    "name": "ipython",
    "version": 3
   },
   "file_extension": ".py",
   "mimetype": "text/x-python",
   "name": "python",
   "nbconvert_exporter": "python",
   "pygments_lexer": "ipython3",
   "version": "3.11.5"
  }
 },
 "nbformat": 4,
 "nbformat_minor": 5
}
